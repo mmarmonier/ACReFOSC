{
  "nbformat": 4,
  "nbformat_minor": 0,
  "metadata": {
    "colab": {
      "provenance": []
    },
    "kernelspec": {
      "name": "python3",
      "display_name": "Python 3"
    },
    "language_info": {
      "name": "python"
    }
  },
  "cells": [
    {
      "cell_type": "markdown",
      "source": [
        "# ACReFOSC Demo: Generating a Preference Dataset for DPO 🧑‍💻\n",
        "\n",
        "This notebook provides a hands-on demonstration of how to use the **ACReFOSC (A Companion REpository to the French OLDI Seed Corpus)** dataset.\n",
        "\n",
        "It shows how one can construct a **preference dataset** from the provided files. This type of dataset is useful for fine-tuning language models using methods like Direct Preference Optimization (DPO), which teaches a model to prefer one style of response over another.\n",
        "\n",
        "---\n",
        "\n",
        "## Dataset Overview 📊\n",
        "\n",
        "The script will use two core files from the repository:\n",
        "\n",
        "* `acrefosc_raw.json`: This file contains the primary data. For each English source segment, it includes:\n",
        "    * The final, **human post-edited French translation** (the high-quality \"chosen\" response).\n",
        "    * Nine different **raw machine translation hypotheses** (the lower-quality \"rejected\" responses).\n",
        "    * Quality Estimation (QE) scores for each machine-generated hypothesis from two different metrics: `COMET` and `MetricX`.\n",
        "\n",
        "* `acrefosc_prompts.json`: This file contains the specific prompts used to generate the translations for the `Llama-4-Scout_segment-level` system adapted to discourage CoT.\n",
        "\n",
        "---\n",
        "\n",
        "## The Core Task: Creating Preference Pairs ✅❌\n",
        "\n",
        "The key operation consists in creating pairs of \"chosen\" and \"rejected\" translations for each source text. The `create_preference_dataset` function in this notebook automates this process. Crucially, the code verifies that a machine-generated hypothesis is different from the human-post-edited reference before considering it as a 'rejected' candidate, ensuring no identical pairs are created.\n",
        "\n",
        "It also demonstrates several **advanced selection strategies** for choosing the \"rejected\" example, using the provided QE scores:\n",
        "\n",
        "* **`all`**: The simplest approach. It creates a preference pair for every machine translation that isn't identical to the final human version.\n",
        "* **`hardest`**: A more nuanced strategy. For each source text, it selects only the *best-scoring* machine translation as the rejected example. This creates \"hard\" negative examples that are closer in quality to the chosen response.\n",
        "* **`easiest`**: This strategy selects the *worst-scoring* machine translation as the rejected example, creating a dataset with more clear-cut quality differences.\n",
        "\n",
        "**Note**: The script correctly handles the fact that **MetricX is an error score, where lower is better**. Therefore, the \"hardest\" negative example will have the *minimum* MetricX score among the machine-generated options.\n",
        "\n",
        "The notebook will first clone the repository, then process the data to generate and save a `.jsonl` file ready for DPO training. Let's get started! 👇"
      ],
      "metadata": {
        "id": "NP9hWX394WLC"
      }
    },
    {
      "cell_type": "code",
      "execution_count": 1,
      "metadata": {
        "colab": {
          "base_uri": "https://localhost:8080/"
        },
        "id": "bg8vqnMn3U1z",
        "outputId": "0a17c03a-086b-41b2-ab7a-e7f0b0b6cc21"
      },
      "outputs": [
        {
          "output_type": "stream",
          "name": "stdout",
          "text": [
            "Cloning into 'ACReFOSC'...\n",
            "remote: Enumerating objects: 29, done.\u001b[K\n",
            "remote: Counting objects: 100% (29/29), done.\u001b[K\n",
            "remote: Compressing objects: 100% (25/25), done.\u001b[K\n",
            "remote: Total 29 (delta 4), reused 0 (delta 0), pack-reused 0 (from 0)\u001b[K\n",
            "Receiving objects: 100% (29/29), 5.53 MiB | 4.62 MiB/s, done.\n",
            "Resolving deltas: 100% (4/4), done.\n"
          ]
        }
      ],
      "source": [
        "!git clone https://github.com/mmarmonier/ACReFOSC.git"
      ]
    },
    {
      "cell_type": "code",
      "source": [
        "%cd ACReFOSC"
      ],
      "metadata": {
        "colab": {
          "base_uri": "https://localhost:8080/"
        },
        "id": "LKzzcGzn3sT7",
        "outputId": "7533467c-c436-4834-bbf7-ef4a82915412"
      },
      "execution_count": 2,
      "outputs": [
        {
          "output_type": "stream",
          "name": "stdout",
          "text": [
            "/content/ACReFOSC\n"
          ]
        }
      ]
    },
    {
      "cell_type": "code",
      "source": [
        "import json\n",
        "\n",
        "# 1. Load both datasets from their files\n",
        "with open('data/acrefosc_raw.json', 'r', encoding='utf-8') as f:\n",
        "    raw_data = json.load(f)\n",
        "\n",
        "with open('data/acrefosc_prompts.json', 'r', encoding='utf-8') as f:\n",
        "    prompts_data = json.load(f)\n",
        "\n",
        "# 2. Create a dictionary for quick prompt lookup by ID\n",
        "prompts_map = {item['id']: item['prompt'] for item in prompts_data}\n",
        "\n",
        "# 3. List the keys for the MT systems\n",
        "mt_system_keys = [\n",
        "    \"DeepSeek-R1\",\n",
        "    \"Llama-4-Scout_document-level\",\n",
        "    \"Llama-4-Scout_document-level_no-instruction\",\n",
        "    \"Llama-4-Scout_document-level_Wikipedia\",\n",
        "    \"Llama-4-Scout_segment-level\",\n",
        "    \"MADLAD-400-3B\",\n",
        "    \"NLLB-200-600M-Distilled\",\n",
        "    \"NLLB-3.3B\",\n",
        "    \"OPUS-MT_en-fr\",\n",
        "]\n",
        "\n",
        "# 4. Generate the preference dataset with advanced selection strategies\n",
        "def create_preference_dataset(raw_data, prompts_map, system_keys,\n",
        "                              format_style='openai',\n",
        "                              selection_strategy='all',\n",
        "                              selection_metric='COMET'):\n",
        "    \"\"\"\n",
        "    Generates a preference dataset with flexible selection strategies.\n",
        "\n",
        "    Args:\n",
        "        raw_data (list): Data from acrefosc_raw.json.\n",
        "        prompts_map (dict): Dictionary mapping IDs to prompts.\n",
        "        system_keys (list): List of MT system key names.\n",
        "        format_style (str): Output format ('simple' or 'openai').\n",
        "        selection_strategy (str): How to choose rejected examples.\n",
        "            'all': Naive approach, creates a pair for every non-identical hypothesis.\n",
        "            'hardest': Selects the best-scoring non-identical hypothesis.\n",
        "            'easiest': Selects the worst-scoring hypothesis.\n",
        "        selection_metric (str): Which QE score to use ('COMET' or 'MetricX').\n",
        "    \"\"\"\n",
        "    preference_dataset = []\n",
        "    for instance in raw_data:\n",
        "        instance_id = instance['id']\n",
        "        prompt = prompts_map.get(instance_id, f\"Translate to French: {instance['text']}\")\n",
        "        chosen_response = instance['post_edited_text']\n",
        "\n",
        "        hypotheses = []\n",
        "        for key in system_keys:\n",
        "            if key in instance and instance[key] != chosen_response:\n",
        "                score_key = f\"{key}_{selection_metric}_QE_Score\"\n",
        "                hypotheses.append({\n",
        "                    \"text\": instance[key],\n",
        "                    \"score\": instance.get(score_key),\n",
        "                    \"system\": key\n",
        "                })\n",
        "\n",
        "        # Filter out hypotheses without a valid score for selection strategies\n",
        "        scored_hypotheses = [h for h in hypotheses if h['score'] is not None]\n",
        "        if not scored_hypotheses and selection_strategy != 'all':\n",
        "            continue\n",
        "\n",
        "        pairs_to_add = []\n",
        "        if selection_strategy == 'all':\n",
        "            pairs_to_add = hypotheses\n",
        "        elif selection_strategy == 'hardest':\n",
        "            # [cite_start]Note: MetricX is an error score (lower is better) [cite: 177]\n",
        "            # So the \"hardest\" (best) negative has the MINIMUM MetricX score.\n",
        "            best_hypo = min(scored_hypotheses, key=lambda x: x['score']) if selection_metric == 'MetricX' \\\n",
        "                        else max(scored_hypotheses, key=lambda x: x['score'])\n",
        "            pairs_to_add = [best_hypo]\n",
        "        elif selection_strategy == 'easiest':\n",
        "            # The \"easiest\" (worst) negative has the MAXIMUM MetricX score.\n",
        "            worst_hypo = max(scored_hypotheses, key=lambda x: x['score']) if selection_metric == 'MetricX' \\\n",
        "                         else min(scored_hypotheses, key=lambda x: x['score'])\n",
        "            pairs_to_add = [worst_hypo]\n",
        "\n",
        "        for hypo in pairs_to_add:\n",
        "            if format_style == 'openai':\n",
        "                pair = {\n",
        "                    \"input\": {\"messages\": [{\"role\": \"user\", \"content\": prompt}]},\n",
        "                    \"preferred_output\": {\"messages\": [{\"role\": \"assistant\", \"content\": f\"<translation>{chosen_response}</translation>\"}]},\n",
        "                    \"non_preferred_output\": {\"messages\": [{\"role\": \"assistant\", \"content\": f\"<translation>{hypo['text']}</translation>\"}]}\n",
        "                }\n",
        "            else:\n",
        "                pair = {\"prompt\": prompt, \"chosen\": f\"<translation>{chosen_response}</translation>\", \"rejected\": f\"<translation>{hypo['text']}</translation>\"}\n",
        "            preference_dataset.append(pair)\n",
        "\n",
        "    return preference_dataset\n",
        "\n",
        "# --- Create and save the dataset ---\n",
        "\n",
        "# You can now choose your strategy.\n",
        "# 'all': Creates the most pairs.\n",
        "# 'hardest': Creates one pair per instance with the best-scoring negative.\n",
        "# 'easiest': Creates one pair per instance with the worst-scoring negative.\n",
        "strategy = 'all'\n",
        "metric = 'MetricX' # or 'COMET'\n",
        "dpo_dataset = create_preference_dataset(raw_data, prompts_map, mt_system_keys,\n",
        "                                        selection_strategy=strategy,\n",
        "                                        selection_metric=metric)\n",
        "\n",
        "# Define the output filename\n",
        "output_filename = f'dpo_preference_dataset_{strategy}_{metric}.jsonl'\n",
        "\n",
        "# Save the generated dataset to a .jsonl file\n",
        "with open(output_filename, 'w', encoding='utf-8') as f:\n",
        "    for pair in dpo_dataset:\n",
        "        f.write(json.dumps(pair, ensure_ascii=False) + '\\n')\n",
        "\n",
        "print(f\"✅ Success! Generated {len(dpo_dataset)} preference pairs using the '{strategy}' strategy with {metric} scores.\")\n",
        "print(f\"Dataset saved to '{output_filename}'\")"
      ],
      "metadata": {
        "colab": {
          "base_uri": "https://localhost:8080/"
        },
        "id": "kBL2FaI33emw",
        "outputId": "b138c2ab-544c-49ca-f967-7173f3fcba96"
      },
      "execution_count": 3,
      "outputs": [
        {
          "output_type": "stream",
          "name": "stdout",
          "text": [
            "✅ Success! Generated 49580 preference pairs using the 'all' strategy with MetricX scores.\n",
            "Dataset saved to 'dpo_preference_dataset_all_MetricX.jsonl'\n"
          ]
        }
      ]
    },
    {
      "cell_type": "code",
      "source": [
        "!head dpo_preference_dataset_all_MetricX.jsonl"
      ],
      "metadata": {
        "colab": {
          "base_uri": "https://localhost:8080/"
        },
        "id": "JY568Nse3x1P",
        "outputId": "e04e15cf-5b13-4330-e2c1-11b1b2d8b737"
      },
      "execution_count": 4,
      "outputs": [
        {
          "output_type": "stream",
          "name": "stdout",
          "text": [
            "{\"input\": {\"messages\": [{\"role\": \"user\", \"content\": \"You are an expert English-French translator of encyclopedic documents. In translating, you adhere to the following guidelines:\\n\\n1. Refer to the source document context when available. Context helps clarify meaning, resolve ambiguities, and maintain tone and accuracy in translation.\\n2. Do not convert any units of measurement. Translate them exactly as noted in the source content.\\n3. Encyclopedic documents should be translated using a formal tone.\\n4. Provide fluent translations without deviating excessively from the structure of the source segment.\\n5. Do not expand or replace information compared to what is present in the source segment. Do not add any explanatory or parenthetical information, definitions, etc.\\n6. Do not ignore any meaningful text that was present in the source segment.\\n7. If a named entity in the source language has a canonical equivalent in the target language, use this canonical equivalent.\\n8. If a named entity in the source language does not have a canonical equivalent in the target language, you may use the source term in your translation.\\n\\nYou are to translate the following English source segment into French:\\n\\\"Lillian Diana Gish (October 14, 1893 – February 27, 1993) was an American actress, director and screenwriter.\\\"\\n\\nDo not explain your reasoning. You should output the translation directly, and ONLY the translation, without any additional explanation. IMPORTANT: Do write your translation between tags in the following manner: <translation>your translation here</translation>.\"}]}, \"preferred_output\": {\"messages\": [{\"role\": \"assistant\", \"content\": \"<translation>Lillian Diana Gish (14 octobre 1893 – 27 février 1993) était une actrice, réalisatrice et scénariste américaine.</translation>\"}]}, \"non_preferred_output\": {\"messages\": [{\"role\": \"assistant\", \"content\": \"<translation>Lillian Diana Gish, née le 14 octobre 1893 et morte le 27 février 1993, est une actrice, réalisatrice et scénariste américaine.</translation>\"}]}}\n",
            "{\"input\": {\"messages\": [{\"role\": \"user\", \"content\": \"You are an expert English-French translator of encyclopedic documents. In translating, you adhere to the following guidelines:\\n\\n1. Refer to the source document context when available. Context helps clarify meaning, resolve ambiguities, and maintain tone and accuracy in translation.\\n2. Do not convert any units of measurement. Translate them exactly as noted in the source content.\\n3. Encyclopedic documents should be translated using a formal tone.\\n4. Provide fluent translations without deviating excessively from the structure of the source segment.\\n5. Do not expand or replace information compared to what is present in the source segment. Do not add any explanatory or parenthetical information, definitions, etc.\\n6. Do not ignore any meaningful text that was present in the source segment.\\n7. If a named entity in the source language has a canonical equivalent in the target language, use this canonical equivalent.\\n8. If a named entity in the source language does not have a canonical equivalent in the target language, you may use the source term in your translation.\\n\\nYou are to translate the following English source segment into French:\\n\\\"Lillian Diana Gish (October 14, 1893 – February 27, 1993) was an American actress, director and screenwriter.\\\"\\n\\nDo not explain your reasoning. You should output the translation directly, and ONLY the translation, without any additional explanation. IMPORTANT: Do write your translation between tags in the following manner: <translation>your translation here</translation>.\"}]}, \"preferred_output\": {\"messages\": [{\"role\": \"assistant\", \"content\": \"<translation>Lillian Diana Gish (14 octobre 1893 – 27 février 1993) était une actrice, réalisatrice et scénariste américaine.</translation>\"}]}, \"non_preferred_output\": {\"messages\": [{\"role\": \"assistant\", \"content\": \"<translation>Lillian Diana Gish (14 octobre 1893 - 27 février 1993) est une actrice, réalisatrice et scénariste américaine.</translation>\"}]}}\n",
            "{\"input\": {\"messages\": [{\"role\": \"user\", \"content\": \"You are an expert English-French translator of encyclopedic documents. In translating, you adhere to the following guidelines:\\n\\n1. Refer to the source document context when available. Context helps clarify meaning, resolve ambiguities, and maintain tone and accuracy in translation.\\n2. Do not convert any units of measurement. Translate them exactly as noted in the source content.\\n3. Encyclopedic documents should be translated using a formal tone.\\n4. Provide fluent translations without deviating excessively from the structure of the source segment.\\n5. Do not expand or replace information compared to what is present in the source segment. Do not add any explanatory or parenthetical information, definitions, etc.\\n6. Do not ignore any meaningful text that was present in the source segment.\\n7. If a named entity in the source language has a canonical equivalent in the target language, use this canonical equivalent.\\n8. If a named entity in the source language does not have a canonical equivalent in the target language, you may use the source term in your translation.\\n\\nYou are to translate the following English source segment into French:\\n\\\"Lillian Diana Gish (October 14, 1893 – February 27, 1993) was an American actress, director and screenwriter.\\\"\\n\\nDo not explain your reasoning. You should output the translation directly, and ONLY the translation, without any additional explanation. IMPORTANT: Do write your translation between tags in the following manner: <translation>your translation here</translation>.\"}]}, \"preferred_output\": {\"messages\": [{\"role\": \"assistant\", \"content\": \"<translation>Lillian Diana Gish (14 octobre 1893 – 27 février 1993) était une actrice, réalisatrice et scénariste américaine.</translation>\"}]}, \"non_preferred_output\": {\"messages\": [{\"role\": \"assistant\", \"content\": \"<translation>Lillian Diana Gish (14 octobre 1893 - 27 février 1993) était une actrice, réalisatrice et scénariste américaine.</translation>\"}]}}\n",
            "{\"input\": {\"messages\": [{\"role\": \"user\", \"content\": \"You are an expert English-French translator of encyclopedic documents. In translating, you adhere to the following guidelines:\\n\\n1. Refer to the source document context when available. Context helps clarify meaning, resolve ambiguities, and maintain tone and accuracy in translation.\\n2. Do not convert any units of measurement. Translate them exactly as noted in the source content.\\n3. Encyclopedic documents should be translated using a formal tone.\\n4. Provide fluent translations without deviating excessively from the structure of the source segment.\\n5. Do not expand or replace information compared to what is present in the source segment. Do not add any explanatory or parenthetical information, definitions, etc.\\n6. Do not ignore any meaningful text that was present in the source segment.\\n7. If a named entity in the source language has a canonical equivalent in the target language, use this canonical equivalent.\\n8. If a named entity in the source language does not have a canonical equivalent in the target language, you may use the source term in your translation.\\n\\nYou are to translate the following English source segment into French:\\n\\\"Lillian Diana Gish (October 14, 1893 – February 27, 1993) was an American actress, director and screenwriter.\\\"\\n\\nDo not explain your reasoning. You should output the translation directly, and ONLY the translation, without any additional explanation. IMPORTANT: Do write your translation between tags in the following manner: <translation>your translation here</translation>.\"}]}, \"preferred_output\": {\"messages\": [{\"role\": \"assistant\", \"content\": \"<translation>Lillian Diana Gish (14 octobre 1893 – 27 février 1993) était une actrice, réalisatrice et scénariste américaine.</translation>\"}]}, \"non_preferred_output\": {\"messages\": [{\"role\": \"assistant\", \"content\": \"<translation>Lillian Diana Gish (14 octobre 1893 – 27 février 1993) est une actrice, réalisatrice et scénariste américaine.</translation>\"}]}}\n",
            "{\"input\": {\"messages\": [{\"role\": \"user\", \"content\": \"You are an expert English-French translator of encyclopedic documents. In translating, you adhere to the following guidelines:\\n\\n1. Refer to the source document context when available. Context helps clarify meaning, resolve ambiguities, and maintain tone and accuracy in translation.\\n2. Do not convert any units of measurement. Translate them exactly as noted in the source content.\\n3. Encyclopedic documents should be translated using a formal tone.\\n4. Provide fluent translations without deviating excessively from the structure of the source segment.\\n5. Do not expand or replace information compared to what is present in the source segment. Do not add any explanatory or parenthetical information, definitions, etc.\\n6. Do not ignore any meaningful text that was present in the source segment.\\n7. If a named entity in the source language has a canonical equivalent in the target language, use this canonical equivalent.\\n8. If a named entity in the source language does not have a canonical equivalent in the target language, you may use the source term in your translation.\\n\\nYou are to translate the following English source segment into French:\\n\\\"Gish was a prominent film star from 1912 into the 1920s, being particularly associated with the films of director D. W. Griffith.\\\"\\n\\nHere is the segment in some of its original context; please note that the context may include parts of the source document that are not directly adjacent to the main segment, and omissions may not be explicitly marked with ellipses. Nonetheless, this context remains valuable for clarifying meaning, resolving ambiguity, and ensuring consistency in tone and terminology:\\nLillian Diana Gish (October 14, 1893 – February 27, 1993) was an American actress, director and screenwriter.\\nGish was a prominent film star from 1912 into the 1920s, being particularly associated with the films of director D. W. Griffith.\\n\\nA reminder that the English segment you must translate into French is:\\n\\\"Gish was a prominent film star from 1912 into the 1920s, being particularly associated with the films of director D. W. Griffith.\\\"\\n\\nDo not explain your reasoning. You should output the translation directly, and ONLY the translation, without any additional explanation. IMPORTANT: Do write your translation between tags in the following manner: <translation>your translation here</translation>.\"}]}, \"preferred_output\": {\"messages\": [{\"role\": \"assistant\", \"content\": \"<translation>Gish fut une star de cinéma de premier plan de 1912 jusqu'aux années 1920, étant particulièrement associée aux films du réalisateur D. W. Griffith.</translation>\"}]}, \"non_preferred_output\": {\"messages\": [{\"role\": \"assistant\", \"content\": \"<translation>Gish était une star de cinéma importante de 1912 jusqu'aux années 1920, étant particulièrement associée aux films du réalisateur D. W. Griffith.</translation>\"}]}}\n",
            "{\"input\": {\"messages\": [{\"role\": \"user\", \"content\": \"You are an expert English-French translator of encyclopedic documents. In translating, you adhere to the following guidelines:\\n\\n1. Refer to the source document context when available. Context helps clarify meaning, resolve ambiguities, and maintain tone and accuracy in translation.\\n2. Do not convert any units of measurement. Translate them exactly as noted in the source content.\\n3. Encyclopedic documents should be translated using a formal tone.\\n4. Provide fluent translations without deviating excessively from the structure of the source segment.\\n5. Do not expand or replace information compared to what is present in the source segment. Do not add any explanatory or parenthetical information, definitions, etc.\\n6. Do not ignore any meaningful text that was present in the source segment.\\n7. If a named entity in the source language has a canonical equivalent in the target language, use this canonical equivalent.\\n8. If a named entity in the source language does not have a canonical equivalent in the target language, you may use the source term in your translation.\\n\\nYou are to translate the following English source segment into French:\\n\\\"Gish was a prominent film star from 1912 into the 1920s, being particularly associated with the films of director D. W. Griffith.\\\"\\n\\nHere is the segment in some of its original context; please note that the context may include parts of the source document that are not directly adjacent to the main segment, and omissions may not be explicitly marked with ellipses. Nonetheless, this context remains valuable for clarifying meaning, resolving ambiguity, and ensuring consistency in tone and terminology:\\nLillian Diana Gish (October 14, 1893 – February 27, 1993) was an American actress, director and screenwriter.\\nGish was a prominent film star from 1912 into the 1920s, being particularly associated with the films of director D. W. Griffith.\\n\\nA reminder that the English segment you must translate into French is:\\n\\\"Gish was a prominent film star from 1912 into the 1920s, being particularly associated with the films of director D. W. Griffith.\\\"\\n\\nDo not explain your reasoning. You should output the translation directly, and ONLY the translation, without any additional explanation. IMPORTANT: Do write your translation between tags in the following manner: <translation>your translation here</translation>.\"}]}, \"preferred_output\": {\"messages\": [{\"role\": \"assistant\", \"content\": \"<translation>Gish fut une star de cinéma de premier plan de 1912 jusqu'aux années 1920, étant particulièrement associée aux films du réalisateur D. W. Griffith.</translation>\"}]}, \"non_preferred_output\": {\"messages\": [{\"role\": \"assistant\", \"content\": \"<translation>Gish était une star de cinéma éminente de 1912 jusqu'aux années 1920, étant particulièrement associée aux films du réalisateur D. W. Griffith.</translation>\"}]}}\n",
            "{\"input\": {\"messages\": [{\"role\": \"user\", \"content\": \"You are an expert English-French translator of encyclopedic documents. In translating, you adhere to the following guidelines:\\n\\n1. Refer to the source document context when available. Context helps clarify meaning, resolve ambiguities, and maintain tone and accuracy in translation.\\n2. Do not convert any units of measurement. Translate them exactly as noted in the source content.\\n3. Encyclopedic documents should be translated using a formal tone.\\n4. Provide fluent translations without deviating excessively from the structure of the source segment.\\n5. Do not expand or replace information compared to what is present in the source segment. Do not add any explanatory or parenthetical information, definitions, etc.\\n6. Do not ignore any meaningful text that was present in the source segment.\\n7. If a named entity in the source language has a canonical equivalent in the target language, use this canonical equivalent.\\n8. If a named entity in the source language does not have a canonical equivalent in the target language, you may use the source term in your translation.\\n\\nYou are to translate the following English source segment into French:\\n\\\"Gish was a prominent film star from 1912 into the 1920s, being particularly associated with the films of director D. W. Griffith.\\\"\\n\\nHere is the segment in some of its original context; please note that the context may include parts of the source document that are not directly adjacent to the main segment, and omissions may not be explicitly marked with ellipses. Nonetheless, this context remains valuable for clarifying meaning, resolving ambiguity, and ensuring consistency in tone and terminology:\\nLillian Diana Gish (October 14, 1893 – February 27, 1993) was an American actress, director and screenwriter.\\nGish was a prominent film star from 1912 into the 1920s, being particularly associated with the films of director D. W. Griffith.\\n\\nA reminder that the English segment you must translate into French is:\\n\\\"Gish was a prominent film star from 1912 into the 1920s, being particularly associated with the films of director D. W. Griffith.\\\"\\n\\nDo not explain your reasoning. You should output the translation directly, and ONLY the translation, without any additional explanation. IMPORTANT: Do write your translation between tags in the following manner: <translation>your translation here</translation>.\"}]}, \"preferred_output\": {\"messages\": [{\"role\": \"assistant\", \"content\": \"<translation>Gish fut une star de cinéma de premier plan de 1912 jusqu'aux années 1920, étant particulièrement associée aux films du réalisateur D. W. Griffith.</translation>\"}]}, \"non_preferred_output\": {\"messages\": [{\"role\": \"assistant\", \"content\": \"<translation>Gish était une vedette de cinéma importante de 1912 aux années 1920, étant particulièrement associée aux films du réalisateur D. W. Griffith.</translation>\"}]}}\n",
            "{\"input\": {\"messages\": [{\"role\": \"user\", \"content\": \"You are an expert English-French translator of encyclopedic documents. In translating, you adhere to the following guidelines:\\n\\n1. Refer to the source document context when available. Context helps clarify meaning, resolve ambiguities, and maintain tone and accuracy in translation.\\n2. Do not convert any units of measurement. Translate them exactly as noted in the source content.\\n3. Encyclopedic documents should be translated using a formal tone.\\n4. Provide fluent translations without deviating excessively from the structure of the source segment.\\n5. Do not expand or replace information compared to what is present in the source segment. Do not add any explanatory or parenthetical information, definitions, etc.\\n6. Do not ignore any meaningful text that was present in the source segment.\\n7. If a named entity in the source language has a canonical equivalent in the target language, use this canonical equivalent.\\n8. If a named entity in the source language does not have a canonical equivalent in the target language, you may use the source term in your translation.\\n\\nYou are to translate the following English source segment into French:\\n\\\"Gish was a prominent film star from 1912 into the 1920s, being particularly associated with the films of director D. W. Griffith.\\\"\\n\\nHere is the segment in some of its original context; please note that the context may include parts of the source document that are not directly adjacent to the main segment, and omissions may not be explicitly marked with ellipses. Nonetheless, this context remains valuable for clarifying meaning, resolving ambiguity, and ensuring consistency in tone and terminology:\\nLillian Diana Gish (October 14, 1893 – February 27, 1993) was an American actress, director and screenwriter.\\nGish was a prominent film star from 1912 into the 1920s, being particularly associated with the films of director D. W. Griffith.\\n\\nA reminder that the English segment you must translate into French is:\\n\\\"Gish was a prominent film star from 1912 into the 1920s, being particularly associated with the films of director D. W. Griffith.\\\"\\n\\nDo not explain your reasoning. You should output the translation directly, and ONLY the translation, without any additional explanation. IMPORTANT: Do write your translation between tags in the following manner: <translation>your translation here</translation>.\"}]}, \"preferred_output\": {\"messages\": [{\"role\": \"assistant\", \"content\": \"<translation>Gish fut une star de cinéma de premier plan de 1912 jusqu'aux années 1920, étant particulièrement associée aux films du réalisateur D. W. Griffith.</translation>\"}]}, \"non_preferred_output\": {\"messages\": [{\"role\": \"assistant\", \"content\": \"<translation>Gish était une star de cinéma de premier plan de 1912 jusqu'aux années 1920, étant particulièrement associée aux films du réalisateur D. W. Griffith.</translation>\"}]}}\n",
            "{\"input\": {\"messages\": [{\"role\": \"user\", \"content\": \"You are an expert English-French translator of encyclopedic documents. In translating, you adhere to the following guidelines:\\n\\n1. Refer to the source document context when available. Context helps clarify meaning, resolve ambiguities, and maintain tone and accuracy in translation.\\n2. Do not convert any units of measurement. Translate them exactly as noted in the source content.\\n3. Encyclopedic documents should be translated using a formal tone.\\n4. Provide fluent translations without deviating excessively from the structure of the source segment.\\n5. Do not expand or replace information compared to what is present in the source segment. Do not add any explanatory or parenthetical information, definitions, etc.\\n6. Do not ignore any meaningful text that was present in the source segment.\\n7. If a named entity in the source language has a canonical equivalent in the target language, use this canonical equivalent.\\n8. If a named entity in the source language does not have a canonical equivalent in the target language, you may use the source term in your translation.\\n\\nYou are to translate the following English source segment into French:\\n\\\"Gish was a prominent film star from 1912 into the 1920s, being particularly associated with the films of director D. W. Griffith.\\\"\\n\\nHere is the segment in some of its original context; please note that the context may include parts of the source document that are not directly adjacent to the main segment, and omissions may not be explicitly marked with ellipses. Nonetheless, this context remains valuable for clarifying meaning, resolving ambiguity, and ensuring consistency in tone and terminology:\\nLillian Diana Gish (October 14, 1893 – February 27, 1993) was an American actress, director and screenwriter.\\nGish was a prominent film star from 1912 into the 1920s, being particularly associated with the films of director D. W. Griffith.\\n\\nA reminder that the English segment you must translate into French is:\\n\\\"Gish was a prominent film star from 1912 into the 1920s, being particularly associated with the films of director D. W. Griffith.\\\"\\n\\nDo not explain your reasoning. You should output the translation directly, and ONLY the translation, without any additional explanation. IMPORTANT: Do write your translation between tags in the following manner: <translation>your translation here</translation>.\"}]}, \"preferred_output\": {\"messages\": [{\"role\": \"assistant\", \"content\": \"<translation>Gish fut une star de cinéma de premier plan de 1912 jusqu'aux années 1920, étant particulièrement associée aux films du réalisateur D. W. Griffith.</translation>\"}]}, \"non_preferred_output\": {\"messages\": [{\"role\": \"assistant\", \"content\": \"<translation>Gish est une vedette de cinéma de 1912 jusque dans les années 1920, étant particulièrement associée aux films du réalisateur D. W. Griffith.</translation>\"}]}}\n",
            "{\"input\": {\"messages\": [{\"role\": \"user\", \"content\": \"You are an expert English-French translator of encyclopedic documents. In translating, you adhere to the following guidelines:\\n\\n1. Refer to the source document context when available. Context helps clarify meaning, resolve ambiguities, and maintain tone and accuracy in translation.\\n2. Do not convert any units of measurement. Translate them exactly as noted in the source content.\\n3. Encyclopedic documents should be translated using a formal tone.\\n4. Provide fluent translations without deviating excessively from the structure of the source segment.\\n5. Do not expand or replace information compared to what is present in the source segment. Do not add any explanatory or parenthetical information, definitions, etc.\\n6. Do not ignore any meaningful text that was present in the source segment.\\n7. If a named entity in the source language has a canonical equivalent in the target language, use this canonical equivalent.\\n8. If a named entity in the source language does not have a canonical equivalent in the target language, you may use the source term in your translation.\\n\\nYou are to translate the following English source segment into French:\\n\\\"Gish was a prominent film star from 1912 into the 1920s, being particularly associated with the films of director D. W. Griffith.\\\"\\n\\nHere is the segment in some of its original context; please note that the context may include parts of the source document that are not directly adjacent to the main segment, and omissions may not be explicitly marked with ellipses. Nonetheless, this context remains valuable for clarifying meaning, resolving ambiguity, and ensuring consistency in tone and terminology:\\nLillian Diana Gish (October 14, 1893 – February 27, 1993) was an American actress, director and screenwriter.\\nGish was a prominent film star from 1912 into the 1920s, being particularly associated with the films of director D. W. Griffith.\\n\\nA reminder that the English segment you must translate into French is:\\n\\\"Gish was a prominent film star from 1912 into the 1920s, being particularly associated with the films of director D. W. Griffith.\\\"\\n\\nDo not explain your reasoning. You should output the translation directly, and ONLY the translation, without any additional explanation. IMPORTANT: Do write your translation between tags in the following manner: <translation>your translation here</translation>.\"}]}, \"preferred_output\": {\"messages\": [{\"role\": \"assistant\", \"content\": \"<translation>Gish fut une star de cinéma de premier plan de 1912 jusqu'aux années 1920, étant particulièrement associée aux films du réalisateur D. W. Griffith.</translation>\"}]}, \"non_preferred_output\": {\"messages\": [{\"role\": \"assistant\", \"content\": \"<translation>Gish était une star de cinéma éminente de 1912 à 1920, étant particulièrement associée aux films du réalisateur D. W. Griffith.</translation>\"}]}}\n"
          ]
        }
      ]
    }
  ]
}